{
 "cells": [
  {
   "cell_type": "markdown",
   "metadata": {},
   "source": [
    "# COVID-19 Vaccine Adverse Reactions"
   ]
  },
  {
   "cell_type": "code",
   "execution_count": 1,
   "metadata": {},
   "outputs": [],
   "source": [
    "import pandas as pd\n",
    "import numpy as np\n",
    "import plotly.express as px\n",
    "import plotly.graph_objects as go"
   ]
  },
  {
   "cell_type": "code",
   "execution_count": 3,
   "metadata": {},
   "outputs": [],
   "source": [
    "patient = pd.read_csv('Datasets/2021VAERSDATA.csv', encoding='windows-1254')\n",
    "vaccine = pd.read_csv('Datasets/2021VAERSVAX.csv')\n",
    "symptoms = pd.read_csv('Datasets/2021VAERSSYMPTOMS.csv')"
   ]
  },
  {
   "cell_type": "markdown",
   "metadata": {},
   "source": [
    "## Cleaning the data"
   ]
  },
  {
   "cell_type": "code",
   "execution_count": 16,
   "metadata": {},
   "outputs": [
    {
     "name": "stdout",
     "output_type": "stream",
     "text": [
      "<class 'pandas.core.frame.DataFrame'>\n",
      "Int64Index: 1471 entries, 0 to 1470\n",
      "Data columns (total 42 columns):\n",
      " #   Column           Non-Null Count  Dtype  \n",
      "---  ------           --------------  -----  \n",
      " 0   VAERS_ID         1471 non-null   int64  \n",
      " 1   RECVDATE         1471 non-null   object \n",
      " 2   STATE            1205 non-null   object \n",
      " 3   AGE_YRS          1115 non-null   float64\n",
      " 4   CAGE_YR          727 non-null    float64\n",
      " 5   CAGE_MO          15 non-null     float64\n",
      " 6   SEX              1471 non-null   object \n",
      " 7   RPT_DATE         1 non-null      object \n",
      " 8   SYMPTOM_TEXT     1471 non-null   object \n",
      " 9   DIED             141 non-null    object \n",
      " 10  DATEDIED         133 non-null    object \n",
      " 11  L_THREAT         107 non-null    object \n",
      " 12  ER_VISIT         0 non-null      float64\n",
      " 13  HOSPITAL         355 non-null    object \n",
      " 14  HOSPDAYS         235 non-null    float64\n",
      " 15  X_STAY           3 non-null      object \n",
      " 16  DISABLE          72 non-null     object \n",
      " 17  RECOVD           1411 non-null   object \n",
      " 18  VAX_DATE         1298 non-null   object \n",
      " 19  ONSET_DATE       1266 non-null   object \n",
      " 20  NUMDAYS          1172 non-null   float64\n",
      " 21  LAB_DATA         892 non-null    object \n",
      " 22  V_ADMINBY        1471 non-null   object \n",
      " 23  V_FUNDBY         1 non-null      object \n",
      " 24  OTHER_MEDS       699 non-null    object \n",
      " 25  CUR_ILL          562 non-null    object \n",
      " 26  HISTORY          899 non-null    object \n",
      " 27  PRIOR_VAX        24 non-null     object \n",
      " 28  SPLTTYPE         774 non-null    object \n",
      " 29  FORM_VERS        1471 non-null   int64  \n",
      " 30  TODAYS_DATE      1467 non-null   object \n",
      " 31  BIRTH_DEFECT     6 non-null      object \n",
      " 32  OFC_VISIT        200 non-null    object \n",
      " 33  ER_ED_VISIT      351 non-null    object \n",
      " 34  ALLERGIES        596 non-null    object \n",
      " 35  VAX_TYPE         1471 non-null   object \n",
      " 36  VAX_MANU         1471 non-null   object \n",
      " 37  VAX_LOT          854 non-null    object \n",
      " 38  VAX_DOSE_SERIES  1465 non-null   object \n",
      " 39  VAX_ROUTE        832 non-null    object \n",
      " 40  VAX_SITE         907 non-null    object \n",
      " 41  VAX_NAME         1471 non-null   object \n",
      "dtypes: float64(6), int64(2), object(34)\n",
      "memory usage: 494.2+ KB\n"
     ]
    }
   ],
   "source": [
    "new_patient_data = patient.merge(vaccine, on=\"VAERS_ID\")\n",
    "new_patient_data.info()"
   ]
  },
  {
   "cell_type": "code",
   "execution_count": 28,
   "metadata": {},
   "outputs": [
    {
     "data": {
      "text/plain": [
       "array([nan, 'Y'], dtype=object)"
      ]
     },
     "execution_count": 28,
     "metadata": {},
     "output_type": "execute_result"
    }
   ],
   "source": [
    "new_patient_data['DIED'].unique()"
   ]
  },
  {
   "cell_type": "code",
   "execution_count": 19,
   "metadata": {},
   "outputs": [],
   "source": [
    "new_patient_data['RECOVD'] = new_patient_data['RECOVD'].replace(np.nan, 'U')\n",
    "new_patient_data['DIED'] = new_patient_data['DIED'].replace(np.nan, 'N')"
   ]
  },
  {
   "cell_type": "code",
   "execution_count": null,
   "metadata": {},
   "outputs": [],
   "source": []
  }
 ],
 "metadata": {
  "kernelspec": {
   "display_name": "Python 3",
   "language": "python",
   "name": "python3"
  },
  "language_info": {
   "codemirror_mode": {
    "name": "ipython",
    "version": 3
   },
   "file_extension": ".py",
   "mimetype": "text/x-python",
   "name": "python",
   "nbconvert_exporter": "python",
   "pygments_lexer": "ipython3",
   "version": "3.8.5"
  }
 },
 "nbformat": 4,
 "nbformat_minor": 4
}
